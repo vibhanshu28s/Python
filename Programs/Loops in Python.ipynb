{
 "cells": [
  {
   "cell_type": "code",
   "execution_count": null,
   "id": "4a67561c",
   "metadata": {},
   "outputs": [],
   "source": [
    "#Reverse of a number\n",
    "a=int(input(\"enter the value:\"))\n",
    "n=a\n",
    "s=str(a)\n",
    "l=len(s)\n",
    "\n",
    "sum=0\n",
    "\n",
    "div=10**(l-1)\n",
    "\n",
    "for i in range(0,l):\n",
    "    n=n%10\n",
    "    mul=n*div\n",
    "    a=a//10\n",
    "    n=a\n",
    "    div=div/10\n",
    "    sum=sum+mul\n",
    "\n",
    "print(int(sum))\n"
   ]
  },
  {
   "cell_type": "code",
   "execution_count": null,
   "id": "016958a7",
   "metadata": {},
   "outputs": [],
   "source": [
    "#Armstrng number\n",
    "def armstrong():\n",
    "    arm=int(input(\"Enter a Number \"))\n",
    "    arm_copy=arm\n",
    "    arm_str=str(arm)\n",
    "    arm_len=len(arm_str)\n",
    "\n",
    "    sum=0\n",
    "\n",
    "    for i in range(arm_len):\n",
    "        mod=arm%10\n",
    "        sum=sum+(mod**arm_len)\n",
    "        arm=arm//10\n",
    "    if(sum==arm_copy):\n",
    "        print(\"Number is Armstrong\")\n",
    "    else:\n",
    "        print(\"Number is not Armstrong\")\n",
    "armstrong()\n"
   ]
  },
  {
   "cell_type": "code",
   "execution_count": 5,
   "id": "5175a925",
   "metadata": {},
   "outputs": [
    {
     "name": "stdout",
     "output_type": "stream",
     "text": [
      "Enter the last value: 13\n",
      "0\n",
      "1\n",
      "1\n",
      "2\n",
      "3\n",
      "5\n",
      "8\n",
      "13\n"
     ]
    }
   ],
   "source": [
    "n=int(input(\"Enter the last value: \"))\n",
    "x=0\n",
    "y=1\n",
    "z=0\n",
    "while(z<=n):\n",
    "    print(z)\n",
    "    x=y\n",
    "    y=z\n",
    "    z=x+y\n",
    "    "
   ]
  },
  {
   "cell_type": "code",
   "execution_count": 4,
   "id": "c2c5bd76",
   "metadata": {},
   "outputs": [
    {
     "name": "stdout",
     "output_type": "stream",
     "text": [
      "Entre number 13\n",
      "0\n",
      "1\n",
      "1\n",
      "2\n",
      "3\n",
      "5\n",
      "8\n",
      "13\n",
      "21\n",
      "34\n",
      "55\n",
      "89\n",
      "144\n",
      "233\n"
     ]
    }
   ],
   "source": [
    "def fibo():\n",
    "    a=0\n",
    "    b=1\n",
    "    sum=0\n",
    "    n = int(input(\"Entre number \"))\n",
    "    print(a)\n",
    "    print(b)\n",
    "\n",
    "\n",
    "    for i in range(1,n):\n",
    "        sum=a+b\n",
    "        a=b\n",
    "        b=sum\n",
    "        print(sum)  \n",
    "\n",
    "fibo()"
   ]
  },
  {
   "cell_type": "code",
   "execution_count": 44,
   "id": "02910a68",
   "metadata": {},
   "outputs": [
    {
     "name": "stdout",
     "output_type": "stream",
     "text": [
      "Enter Number 12\n",
      "12 x 11 x 10 x 9 x 8 x 7 x 6 x 5 x 4 x 3 x 2 x 1 = 479001600\n"
     ]
    }
   ],
   "source": [
    "def factorial():\n",
    "    n=int(input(\"Enter Number \"))\n",
    "    i=n\n",
    "    fact=1\n",
    "    while(n!=0):\n",
    "        fact=fact*n\n",
    "        n=n-1\n",
    "        while(i>=2):\n",
    "            \n",
    "            print(i,end=\" x \")\n",
    "            i=i-1\n",
    "    print(\"1 = \",end=\"\")\n",
    "    print(fact)\n",
    "    \n",
    "factorial()"
   ]
  },
  {
   "cell_type": "code",
   "execution_count": 29,
   "id": "a7f70dea",
   "metadata": {},
   "outputs": [
    {
     "name": "stdout",
     "output_type": "stream",
     "text": [
      "* \n",
      "* * \n",
      "* * * \n",
      "* * * * \n",
      "* * * * * \n"
     ]
    }
   ],
   "source": [
    "for i in range(1,6):\n",
    "    for j in range(1,i+1):\n",
    "        print(\"*\",end=\" \")\n",
    "    print()\n",
    "    "
   ]
  },
  {
   "cell_type": "code",
   "execution_count": 16,
   "id": "e71d3025",
   "metadata": {},
   "outputs": [
    {
     "name": "stdout",
     "output_type": "stream",
     "text": [
      "1 \n",
      "1 2 \n",
      "1 2 3 \n",
      "1 2 3 4 \n",
      "1 2 3 4 5 \n"
     ]
    }
   ],
   "source": [
    "for i in range(1,6):\n",
    "    for j in range(1,i+1):\n",
    "        print(j,end=\" \")\n",
    "    print()"
   ]
  },
  {
   "cell_type": "code",
   "execution_count": 5,
   "id": "6af7e663",
   "metadata": {},
   "outputs": [
    {
     "name": "stdout",
     "output_type": "stream",
     "text": [
      "['banana', 'cherry', 'mango']\n"
     ]
    }
   ],
   "source": [
    "fruits=[\"apple\",\"banana\",\"cherry\",\"mango\"]\n",
    "new_list=[x for x in fruits if \"apple\" not in x]\n",
    "print(new_list)"
   ]
  },
  {
   "cell_type": "code",
   "execution_count": 11,
   "id": "a667a780",
   "metadata": {},
   "outputs": [
    {
     "name": "stdout",
     "output_type": "stream",
     "text": [
      "Eenter any number10\n",
      "[0, 1, 2, 3, 4, 5, 6, 7, 8, 9, 10]\n"
     ]
    }
   ],
   "source": [
    "n=int(input(\"Eenter any number\"))\n",
    "list=[i for i in range(0,n+1)]\n",
    "print(list)"
   ]
  },
  {
   "cell_type": "code",
   "execution_count": 50,
   "id": "f0515224",
   "metadata": {},
   "outputs": [
    {
     "name": "stdout",
     "output_type": "stream",
     "text": [
      "['apple', 'orange', 'cherry', 'mango']\n"
     ]
    }
   ],
   "source": [
    "fruits=[\"apple\",\"banana\",\"cherry\",\"mango\"]\n",
    "new_list=[x if x!=\"banana\" else \"orange\" for x in fruits]\n",
    "print(new_list)"
   ]
  }
 ],
 "metadata": {
  "kernelspec": {
   "display_name": "Python 3 (ipykernel)",
   "language": "python",
   "name": "python3"
  },
  "language_info": {
   "codemirror_mode": {
    "name": "ipython",
    "version": 3
   },
   "file_extension": ".py",
   "mimetype": "text/x-python",
   "name": "python",
   "nbconvert_exporter": "python",
   "pygments_lexer": "ipython3",
   "version": "3.11.4"
  }
 },
 "nbformat": 4,
 "nbformat_minor": 5
}
