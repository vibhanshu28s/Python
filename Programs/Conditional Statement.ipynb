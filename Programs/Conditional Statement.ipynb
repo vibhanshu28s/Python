{
 "cells": [
  {
   "cell_type": "code",
   "execution_count": 1,
   "id": "0be7bcd6",
   "metadata": {},
   "outputs": [
    {
     "name": "stdout",
     "output_type": "stream",
     "text": [
      "What is light color red\n",
      "Stop!\n"
     ]
    }
   ],
   "source": [
    "#Traffic Light\n",
    "light_color=input(\"What is light color \")\n",
    "if(light_color==\"Green\")or(light_color==\"green\"):\n",
    "    print(\"GO!\")\n",
    "elif(light_color==\"Yellow\")or(light_color==\"yellow\"):\n",
    "    print(\"Wait!\")\n",
    "elif(light_color==\"Red\")or(light_color==\"red\"):\n",
    "    print(\"Stop!\")\n",
    "else:\n",
    "    print(\"Unrecognised Signal\")"
   ]
  },
  {
   "cell_type": "code",
   "execution_count": 13,
   "id": "e7b80edd",
   "metadata": {},
   "outputs": [
    {
     "name": "stdout",
     "output_type": "stream",
     "text": [
      "ENTER A number 9\n",
      "Not Prime\n"
     ]
    }
   ],
   "source": [
    "a=int(input(\"ENTER A number \"))\n",
    "for i in range(2,a):\n",
    "    if(a%i==0):\n",
    "        print(\"Not Prime\")\n",
    "        break\n",
    "else:\n",
    "    print(\"Prime\")\n",
    "       "
   ]
  },
  {
   "cell_type": "code",
   "execution_count": 1,
   "id": "be9f81d6",
   "metadata": {},
   "outputs": [
    {
     "name": "stdout",
     "output_type": "stream",
     "text": [
      "Enter a number 111\n",
      "Planedrone Number\n"
     ]
    }
   ],
   "source": [
    "#plane drone\n",
    "def planedrone():\n",
    "    num=int(input(\"Enter a number \"))\n",
    "    num_rev=int(str(num)[::-1])\n",
    "\n",
    "    if(num==num_rev):\n",
    "        print(\"Planedrone Number\")\n",
    "    else:\n",
    "        print(\"Not Planedrone\")\n",
    "\n",
    "\n",
    "planedrone()"
   ]
  },
  {
   "cell_type": "code",
   "execution_count": 1,
   "id": "6eba9aa0",
   "metadata": {},
   "outputs": [
    {
     "name": "stdout",
     "output_type": "stream",
     "text": [
      "Enter the year 2024\n",
      "Leap Year\n"
     ]
    }
   ],
   "source": [
    "def leap():\n",
    "    year=int(input(\"Enter the year \"))\n",
    "    if(year%400==0 or year%100!=0) and (year%4==0):\n",
    "        print(\"Leap Year\")\n",
    "    else:\n",
    "        print(\"Not a leap year\")\n",
    "    \n",
    "leap()"
   ]
  }
 ],
 "metadata": {
  "kernelspec": {
   "display_name": "Python 3 (ipykernel)",
   "language": "python",
   "name": "python3"
  },
  "language_info": {
   "codemirror_mode": {
    "name": "ipython",
    "version": 3
   },
   "file_extension": ".py",
   "mimetype": "text/x-python",
   "name": "python",
   "nbconvert_exporter": "python",
   "pygments_lexer": "ipython3",
   "version": "3.11.4"
  }
 },
 "nbformat": 4,
 "nbformat_minor": 5
}
