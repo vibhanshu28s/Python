{
 "cells": [
  {
   "cell_type": "code",
   "execution_count": 4,
   "id": "b53b4885",
   "metadata": {},
   "outputs": [
    {
     "name": "stdout",
     "output_type": "stream",
     "text": [
      "Enter any number 3\n",
      "prime\n"
     ]
    }
   ],
   "source": [
    "def prime_number(n):\n",
    "    count=0\n",
    "    for i in range(2, n):\n",
    "        if (n%i== 0):\n",
    "            count=1\n",
    "    if(count==1):\n",
    "        print(\"not prime\")\n",
    "    else:\n",
    "        print(\"prime\")\n",
    "\n",
    "\n",
    "a = int(input(\"Enter any number \"))\n",
    "prime_number(a)"
   ]
  },
  {
   "cell_type": "code",
   "execution_count": 1,
   "id": "be9f81d6",
   "metadata": {},
   "outputs": [
    {
     "name": "stdout",
     "output_type": "stream",
     "text": [
      "Enter a number 111\n",
      "Planedrone Number\n"
     ]
    }
   ],
   "source": [
    "#plane drone\n",
    "def planedrone():\n",
    "    num=int(input(\"Enter a number \"))\n",
    "    num_rev=int(str(num)[::-1])\n",
    "\n",
    "    if(num==num_rev):\n",
    "        print(\"Planedrone Number\")\n",
    "    else:\n",
    "        print(\"Not Planedrone\")\n",
    "\n",
    "\n",
    "planedrone()"
   ]
  },
  {
   "cell_type": "code",
   "execution_count": null,
   "id": "016958a7",
   "metadata": {},
   "outputs": [],
   "source": [
    "#Armstrng number\n",
    "def armstrong():\n",
    "    arm=int(input(\"Enter a Number \"))\n",
    "    arm_copy=arm\n",
    "    arm_str=str(arm)\n",
    "    arm_len=len(arm_str)\n",
    "\n",
    "    sum=0\n",
    "\n",
    "    for i in range(arm_len):\n",
    "        mod=arm%10\n",
    "        sum=sum+(mod**arm_len)\n",
    "        arm=arm//10\n",
    "    if(sum==arm_copy):\n",
    "        print(\"Number is Armstrong\")\n",
    "    else:\n",
    "        print(\"Number is not Armstrong\")\n",
    "armstrong()\n"
   ]
  },
  {
   "cell_type": "code",
   "execution_count": 4,
   "id": "c2c5bd76",
   "metadata": {},
   "outputs": [
    {
     "name": "stdout",
     "output_type": "stream",
     "text": [
      "Entre number 13\n",
      "0\n",
      "1\n",
      "1\n",
      "2\n",
      "3\n",
      "5\n",
      "8\n",
      "13\n",
      "21\n",
      "34\n",
      "55\n",
      "89\n",
      "144\n",
      "233\n"
     ]
    }
   ],
   "source": [
    "def fibo():\n",
    "    a=0\n",
    "    b=1\n",
    "    sum=0\n",
    "    n = int(input(\"Entre number \"))\n",
    "    print(a)\n",
    "    print(b)\n",
    "\n",
    "\n",
    "    for i in range(1,n):\n",
    "        sum=a+b\n",
    "        a=b\n",
    "        b=sum\n",
    "        print(sum)  \n",
    "\n",
    "fibo()"
   ]
  },
  {
   "cell_type": "code",
   "execution_count": 7,
   "id": "d074a44a",
   "metadata": {},
   "outputs": [
    {
     "name": "stdout",
     "output_type": "stream",
     "text": [
      "Enter the year 1999\n",
      "Not a leap year\n"
     ]
    }
   ],
   "source": [
    "def leap():\n",
    "    year=int(input(\"Enter the year \"))\n",
    "    if(year%400==0 or year%100!=0) and (year%4==0):\n",
    "        print(\"Leap Year\")\n",
    "    else:\n",
    "        print(\"Not a leap year\")\n",
    "    \n",
    "leap()"
   ]
  },
  {
   "cell_type": "code",
   "execution_count": 44,
   "id": "02910a68",
   "metadata": {},
   "outputs": [
    {
     "name": "stdout",
     "output_type": "stream",
     "text": [
      "Enter Number 12\n",
      "12 x 11 x 10 x 9 x 8 x 7 x 6 x 5 x 4 x 3 x 2 x 1 = 479001600\n"
     ]
    }
   ],
   "source": [
    "def factorial():\n",
    "    n=int(input(\"Enter Number \"))\n",
    "    i=n\n",
    "    fact=1\n",
    "    while(n!=0):\n",
    "        fact=fact*n\n",
    "        n=n-1\n",
    "        while(i>=2):\n",
    "            \n",
    "            print(i,end=\" x \")\n",
    "            i=i-1\n",
    "    print(\"1 = \",end=\"\")\n",
    "    print(fact)\n",
    "    \n",
    "factorial()"
   ]
  }
 ],
 "metadata": {
  "kernelspec": {
   "display_name": "Python 3 (ipykernel)",
   "language": "python",
   "name": "python3"
  },
  "language_info": {
   "codemirror_mode": {
    "name": "ipython",
    "version": 3
   },
   "file_extension": ".py",
   "mimetype": "text/x-python",
   "name": "python",
   "nbconvert_exporter": "python",
   "pygments_lexer": "ipython3",
   "version": "3.11.4"
  }
 },
 "nbformat": 4,
 "nbformat_minor": 5
}
